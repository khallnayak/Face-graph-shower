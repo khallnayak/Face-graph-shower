{
 "cells": [
  {
   "cell_type": "code",
   "execution_count": 2,
   "metadata": {},
   "outputs": [],
   "source": [
    "import cv2 as cv\n",
    "import numpy as np"
   ]
  },
  {
   "cell_type": "code",
   "execution_count": 3,
   "metadata": {},
   "outputs": [],
   "source": [
    "face=cv.CascadeClassifier(\"haarcascade_frontalface_default.xml\")"
   ]
  },
  {
   "cell_type": "code",
   "execution_count": 22,
   "metadata": {},
   "outputs": [],
   "source": [
    "cam=cv.VideoCapture(0)\n",
    "while True:\n",
    "    _,frame=cam.read()\n",
    "    frame=cv.flip(frame,1)\n",
    "    new=face.detectMultiScale(frame)\n",
    "    try:\n",
    "        new=new[0]\n",
    "        new[0]-=(new[2])*0.10\n",
    "        new[1]-=(new[3])*0.10\n",
    "        new[2]*=1.1\n",
    "        new[3]*=1.1\n",
    "        new_frame=frame[new[1]:new[1]+new[3],new[0]:new[0]+new[2]]\n",
    "        kernel=cv.getStructuringElement(cv.MORPH_RECT,(5,5))\n",
    "        new_frame=cv.morphologyEx(new_frame,cv.MORPH_GRADIENT,kernel)\n",
    "        new_frame=cv.cvtColor(new_frame,cv.COLOR_BGR2GRAY)\n",
    "        ret,new_frame=cv.threshold(new_frame,0,255,cv.THRESH_OTSU)\n",
    "        contours,hier=cv.findContours(new_frame,cv.RETR_CCOMP,cv.CHAIN_APPROX_NONE)\n",
    "        new_frame=cv.drawContours(new_frame,contours[0],-1,(255,255,255),3)\n",
    "        new_frame=cv.bitwise_not(new_frame)\n",
    "        new_frame=cv.bitwise_and(frame[new[1]:new[1]+new[3],new[0]:new[0]+new[2]],frame[new[1]:new[1]+new[3],new[0]:new[0]+new[2]],mask=new_frame)\n",
    "        frame[new[1]:new[1]+new[3],new[0]:new[0]+new[2]]=new_frame\n",
    "    except:\n",
    "        pass\n",
    "    cv.imshow('original',frame)\n",
    "    if(cv.waitKey(1)&0xff==ord('q')):\n",
    "        break\n",
    "cam.release()\n",
    "cv.destroyAllWindows()"
   ]
  },
  {
   "cell_type": "code",
   "execution_count": null,
   "metadata": {},
   "outputs": [],
   "source": []
  },
  {
   "cell_type": "code",
   "execution_count": null,
   "metadata": {},
   "outputs": [],
   "source": []
  }
 ],
 "metadata": {
  "kernelspec": {
   "display_name": "Python 3",
   "language": "python",
   "name": "python3"
  },
  "language_info": {
   "codemirror_mode": {
    "name": "ipython",
    "version": 3
   },
   "file_extension": ".py",
   "mimetype": "text/x-python",
   "name": "python",
   "nbconvert_exporter": "python",
   "pygments_lexer": "ipython3",
   "version": "3.7.5"
  }
 },
 "nbformat": 4,
 "nbformat_minor": 4
}
